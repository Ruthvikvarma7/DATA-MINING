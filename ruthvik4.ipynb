{
 "cells": [
  {
   "cell_type": "code",
   "execution_count": 1,
   "id": "becf65f3-bce4-454f-a948-4565e3134413",
   "metadata": {},
   "outputs": [],
   "source": [
    "# Programming Assignment 4"
   ]
  },
  {
   "cell_type": "code",
   "execution_count": 2,
   "id": "b97651ce-287f-4c87-be3c-4d311e739a18",
   "metadata": {},
   "outputs": [],
   "source": [
    "# Feature Extraction\n",
    "#import required libraries \n",
    "\n",
    "import os\n",
    "from skimage import io,color,exposure,filters\n",
    "import numpy as np\n",
    "import pandas as pd\n",
    "from sklearn.decomposition import PCA \n",
    "import warnings \n",
    "warnings.filterwarnings(\"ignore\")\n",
    "\n",
    "#ref : frst assignment question based \n",
    "\n",
    "def angle(dx, dy):\n",
    " \"\"\"Calculate the angles between horizontal and vertical operators.\"\"\"\n",
    " return np.mod(np.arctan2(dy, dx), np.pi)\n",
    "\n",
    "direct = 'cropped'\n",
    "breeds=os.listdir(direct)\n",
    "\n",
    "images = []\n",
    "dog_breed = []\n",
    "\n",
    "\n",
    "for index,breed in enumerate(breeds):\n",
    "    img_path = os.path.join(direct, breed)\n",
    "    for image in os.listdir(img_path):\n",
    "            src_path = os.path.join(img_path, image)\n",
    "            img = io.imread(src_path)\n",
    "            img = color.rgb2gray(img)\n",
    "            img = angle(filters.sobel_h(img),filters.sobel_v(img))\n",
    "            hist,_=exposure.histogram(img, nbins=36)\n",
    "            hist=hist/np.sum(hist) # normalization added\n",
    "            images.append(hist)\n",
    "            dog_breed.append(index)\n",
    "           \n",
    "    \n",
    "images=np.array(images)\n",
    "dog_breed=np.array(dog_breed)\n",
    "\n",
    "\n",
    "# DimensionReduction\n",
    "\n",
    "dr=PCA(2)\n",
    "images=dr.fit_transform(images)"
   ]
  },
  {
   "cell_type": "code",
   "execution_count": 4,
   "id": "30585e1b-11f1-4285-9552-d0ed8a027532",
   "metadata": {},
   "outputs": [],
   "source": [
    "# Clustering Algorithm\n",
    "from sklearn.cluster import KMeans,BisectingKMeans,SpectralClustering\n",
    "''' K-mean clustering and its variants for 𝐾 = 4:\n",
    " (a) K-means clustering: (Use KMeans with init = ‘Random’) (0.5 point)\n",
    " (b) KMeans with init=‘k-means++’ (0.5 point)\n",
    " (c) Bisecting K-means (sklearn.cluster.BisectingKMeans with init = ‘Random’) (0.5 point)\n",
    " (d) spectralclustering(sklearn.cluster.SpectralClusteringwithdefaultparameters)(0.5point)'''\n",
    "\n",
    "Random=KMeans(n_clusters=4, random_state=42, init=\"random\").fit(images).labels_\n",
    "kmeans=KMeans(n_clusters=4, random_state=42, init=\"k-means++\").fit(images).labels_\n",
    "bisecting=BisectingKMeans(n_clusters=4, random_state=42, init=\"random\").fit(images).labels_\n",
    "spectralclustering=SpectralClustering(n_clusters=4, random_state=42).fit(images).labels_"
   ]
  },
  {
   "cell_type": "code",
   "execution_count": 11,
   "id": "8112b6db-b182-4250-b51f-daa5a4639f89",
   "metadata": {},
   "outputs": [
    {
     "name": "stdout",
     "output_type": "stream",
     "text": [
      "EPS : 0.02 and min_samples : 3 are used to get desired clusters \n"
     ]
    }
   ],
   "source": [
    "'''DBSCAN(0.5 point)– What are the eps and min samples parameter values you used to get 4 clusters? (0.5\n",
    " point)'''\n",
    "from sklearn.cluster import DBSCAN\n",
    "\n",
    "dbscan = DBSCAN(eps=0.02, min_samples=3).fit(images).labels_\n",
    "\n",
    "print(\"EPS : 0.02 and min_samples : 3 are used to get desired clusters \")"
   ]
  },
  {
   "cell_type": "code",
   "execution_count": 13,
   "id": "85376137-8d7f-41e5-af0c-0ca1fa3109bd",
   "metadata": {},
   "outputs": [],
   "source": [
    "'''Agglomerativeclustering(i.e.,hierarchicalclustering)-usesklearn.cluster.AgglomerativeClustering\n",
    " with number of clusters set to 4\n",
    " (a) Single link (MIN), (0.5 point)\n",
    " 1\n",
    "(b) Complete link (MAX), (0.5 point)\n",
    " (c) Group Average, and (0.5 point)\n",
    " (d) Ward’s method (0.5 point)\n",
    " Use the four linkage values ‘ward’, ‘complete’, ‘average’, ‘single’ for sklearn.cluster.\n",
    " AgglomerativeClustering'''\n",
    "\n",
    "from sklearn.cluster import AgglomerativeClustering\n",
    "\n",
    "Agglomerative_single=AgglomerativeClustering(n_clusters=4, linkage=\"single\").fit(images).labels_\n",
    "Agglomerative_complete=AgglomerativeClustering(n_clusters=4, linkage=\"complete\").fit(images).labels_\n",
    "Agglomerative_average=AgglomerativeClustering(n_clusters=4,linkage=\"average\").fit(images).labels_\n",
    "Agglomerative_ward=AgglomerativeClustering(n_clusters=4,linkage=\"ward\").fit(images).labels_"
   ]
  },
  {
   "cell_type": "code",
   "execution_count": 17,
   "id": "150633b6-b842-480d-a131-b10433cb9b00",
   "metadata": {},
   "outputs": [
    {
     "name": "stdout",
     "output_type": "stream",
     "text": [
      "Random :0.28840832681999923\n",
      "kmeans :0.28840832681999923\n",
      "bisecting :0.2905431929865145\n",
      "spectralclustering :0.34024865117603975\n",
      "dbscan :0.49213747332762203\n",
      "Agglomerative_single :0.49780673783874707\n",
      "Agglomerative_complete :0.3853636857095279\n",
      "Agglomerative_average :0.4859862073148134\n",
      "Agglomerative_ward :0.2841054987140208\n"
     ]
    }
   ],
   "source": [
    "# Clustering Evaluations\n",
    "''' PerformclusteringperformanceevaluationusingFowlkes-Mallowsindex(sklearn.metrics.fowlkes\n",
    " mallows score). ComputetheFowlkes-Mallowsindexforeachmethodonthe2Ddataset. '''\n",
    "# fowlkes_mallows_index\n",
    "\n",
    "from sklearn.metrics import fowlkes_mallows_score\n",
    "print('Random :' + str(fowlkes_mallows_score(dog_breed,Random)))\n",
    "print('kmeans :' + str(fowlkes_mallows_score(dog_breed,kmeans)))\n",
    "print('bisecting :' + str(fowlkes_mallows_score(dog_breed,bisecting)))\n",
    "print('spectralclustering :' + str(fowlkes_mallows_score(dog_breed,spectralclustering)))\n",
    "print('dbscan :' + str(fowlkes_mallows_score(dog_breed,dbscan)))\n",
    "print('Agglomerative_single :' + str(fowlkes_mallows_score(dog_breed,Agglomerative_single)))\n",
    "print('Agglomerative_complete :' + str(fowlkes_mallows_score(dog_breed,Agglomerative_complete)))\n",
    "print('Agglomerative_average :' + str(fowlkes_mallows_score(dog_breed,Agglomerative_average)))\n",
    "print('Agglomerative_ward :' + str(fowlkes_mallows_score(dog_breed,Agglomerative_ward)))"
   ]
  },
  {
   "cell_type": "code",
   "execution_count": 18,
   "id": "51a8ead7-1974-4c74-865b-7b7cb6a44b18",
   "metadata": {},
   "outputs": [
    {
     "name": "stdout",
     "output_type": "stream",
     "text": [
      "Random :0.3783283644226286\n",
      "kmeans :0.3783283644226286\n",
      "bisecting :0.3630075119877075\n",
      "spectralclustering :-0.000996917545300289\n",
      "dbscan :0.6773475589443915\n",
      "Agglomerative_single :0.6890182285520327\n",
      "Agglomerative_complete :0.3866887818408202\n",
      "Agglomerative_average :0.6791330722168423\n",
      "Agglomerative_ward :0.33602008137878986\n"
     ]
    }
   ],
   "source": [
    "#  Silhouette Coefficient\n",
    "'''PerformclusteringperformanceevaluationusingSilhouetteCoefficient(sklearn.metrics.silhouette score).\n",
    " Compute the Silhouette Coefficient for each method'''\n",
    "from sklearn.metrics import silhouette_score\n",
    "print('Random :' + str(silhouette_score(images,Random)))\n",
    "print('kmeans :' + str(silhouette_score(images,kmeans)))\n",
    "print('bisecting :' + str(silhouette_score(images,bisecting)))\n",
    "print('spectralclustering :' + str(silhouette_score(images,spectralclustering)))\n",
    "print('dbscan :' + str(silhouette_score(images,dbscan)))\n",
    "print('Agglomerative_single :' + str(silhouette_score(images,Agglomerative_single)))\n",
    "print('Agglomerative_complete :' + str(silhouette_score(images,Agglomerative_complete)))\n",
    "print('Agglomerative_average :' + str(silhouette_score(images,Agglomerative_average)))\n",
    "print('Agglomerative_ward :' + str(silhouette_score(images,Agglomerative_ward)))"
   ]
  },
  {
   "cell_type": "markdown",
   "id": "07507ae4-8d60-40d0-a182-c25297dd603e",
   "metadata": {},
   "source": [
    "''' Rank the methods from the best to the worst for our dataset based on Fowlkes-Mallows index'''\n",
    "\n",
    "##### Agglomerative_single,dbscan,Agglomerative_average,Agglomerative_complete,spectralclustering,bisecting,kmeans,Random,Agglomerative_ward"
   ]
  },
  {
   "cell_type": "markdown",
   "id": "3184da26-e74f-4e80-b4fa-ce8ea4c02909",
   "metadata": {},
   "source": [
    "''' Rank the methods from the best to the worst for our dataset based on  Silhouette Coefficient.'''\n",
    "\n",
    "##### Agglomerative_single,Agglomerative_average,dbscan,Agglomerative_complete,kmeans,Random,bisecting,Agglomerative_ward,spectralclustering"
   ]
  },
  {
   "cell_type": "code",
   "execution_count": null,
   "id": "ecccc909-d7df-474b-8985-0fd49f0725d0",
   "metadata": {},
   "outputs": [],
   "source": []
  }
 ],
 "metadata": {
  "kernelspec": {
   "display_name": "Python 3 (ipykernel)",
   "language": "python",
   "name": "python3"
  },
  "language_info": {
   "codemirror_mode": {
    "name": "ipython",
    "version": 3
   },
   "file_extension": ".py",
   "mimetype": "text/x-python",
   "name": "python",
   "nbconvert_exporter": "python",
   "pygments_lexer": "ipython3",
   "version": "3.11.0"
  }
 },
 "nbformat": 4,
 "nbformat_minor": 5
}
